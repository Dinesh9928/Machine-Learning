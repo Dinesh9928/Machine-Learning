{
 "cells": [
  {
   "cell_type": "code",
   "execution_count": 1,
   "id": "bc0a98c8",
   "metadata": {},
   "outputs": [
    {
     "data": {
      "text/plain": [
       "4"
      ]
     },
     "execution_count": 1,
     "metadata": {},
     "output_type": "execute_result"
    }
   ],
   "source": [
    "2+2"
   ]
  },
  {
   "cell_type": "markdown",
   "id": "97fa5dcd",
   "metadata": {},
   "source": [
    "# Heading 1\n",
    "## Heading 2\n",
    "### Heading 3\n",
    "\n",
    "* Bullet point 1\n",
    "* Bullet point 2\n",
    "* Bullet point 3"
   ]
  },
  {
   "cell_type": "code",
   "execution_count": 2,
   "id": "c4045131",
   "metadata": {},
   "outputs": [
    {
     "data": {
      "text/plain": [
       "25"
      ]
     },
     "execution_count": 2,
     "metadata": {},
     "output_type": "execute_result"
    }
   ],
   "source": [
    "5**2"
   ]
  },
  {
   "cell_type": "code",
   "execution_count": 3,
   "id": "18beda98",
   "metadata": {},
   "outputs": [
    {
     "ename": "SyntaxError",
     "evalue": "invalid syntax (Temp/ipykernel_28688/4280846567.py, line 1)",
     "output_type": "error",
     "traceback": [
      "\u001b[1;36m  File \u001b[1;32m\"C:\\Users\\Shree\\AppData\\Local\\Temp/ipykernel_28688/4280846567.py\"\u001b[1;36m, line \u001b[1;32m1\u001b[0m\n\u001b[1;33m    5***2\u001b[0m\n\u001b[1;37m       ^\u001b[0m\n\u001b[1;31mSyntaxError\u001b[0m\u001b[1;31m:\u001b[0m invalid syntax\n"
     ]
    }
   ],
   "source": [
    "5***2"
   ]
  },
  {
   "cell_type": "code",
   "execution_count": 4,
   "id": "efca2d99",
   "metadata": {},
   "outputs": [
    {
     "data": {
      "text/plain": [
       "True"
      ]
     },
     "execution_count": 4,
     "metadata": {},
     "output_type": "execute_result"
    }
   ],
   "source": [
    "5>2"
   ]
  },
  {
   "cell_type": "code",
   "execution_count": 5,
   "id": "25d74639",
   "metadata": {},
   "outputs": [
    {
     "data": {
      "text/plain": [
       "1"
      ]
     },
     "execution_count": 5,
     "metadata": {},
     "output_type": "execute_result"
    }
   ],
   "source": [
    "5>>2"
   ]
  },
  {
   "cell_type": "code",
   "execution_count": 6,
   "id": "dee806d9",
   "metadata": {},
   "outputs": [
    {
     "data": {
      "text/plain": [
       "20"
      ]
     },
     "execution_count": 6,
     "metadata": {},
     "output_type": "execute_result"
    }
   ],
   "source": [
    "5<<2"
   ]
  },
  {
   "cell_type": "markdown",
   "id": "2a1817ab",
   "metadata": {},
   "source": [
    "# String in Python"
   ]
  },
  {
   "cell_type": "code",
   "execution_count": 7,
   "id": "4824fd6b",
   "metadata": {},
   "outputs": [
    {
     "data": {
      "text/plain": [
       "'String in Python'"
      ]
     },
     "execution_count": 7,
     "metadata": {},
     "output_type": "execute_result"
    }
   ],
   "source": [
    "\"String in Python\""
   ]
  },
  {
   "cell_type": "code",
   "execution_count": 8,
   "id": "cb38d5cb",
   "metadata": {},
   "outputs": [],
   "source": [
    "str1=\"String in Python\""
   ]
  },
  {
   "cell_type": "code",
   "execution_count": 9,
   "id": "f4636c89",
   "metadata": {},
   "outputs": [
    {
     "data": {
      "text/plain": [
       "'String in Python'"
      ]
     },
     "execution_count": 9,
     "metadata": {},
     "output_type": "execute_result"
    }
   ],
   "source": [
    "str1"
   ]
  },
  {
   "cell_type": "code",
   "execution_count": 10,
   "id": "4b6fc834",
   "metadata": {},
   "outputs": [
    {
     "name": "stdout",
     "output_type": "stream",
     "text": [
      "String in Python\n"
     ]
    }
   ],
   "source": [
    "print(str1)"
   ]
  },
  {
   "cell_type": "code",
   "execution_count": 11,
   "id": "994864c2",
   "metadata": {},
   "outputs": [
    {
     "name": "stdout",
     "output_type": "stream",
     "text": [
      "String in Python is string in python using this\n"
     ]
    }
   ],
   "source": [
    "print(f\"{str1} is string in python using this\")"
   ]
  },
  {
   "cell_type": "code",
   "execution_count": 12,
   "id": "5d8568fc",
   "metadata": {},
   "outputs": [],
   "source": [
    "x=\"SQL\""
   ]
  },
  {
   "cell_type": "code",
   "execution_count": 13,
   "id": "eaa3368d",
   "metadata": {},
   "outputs": [
    {
     "name": "stdout",
     "output_type": "stream",
     "text": [
      "String in Python is SQL\n"
     ]
    }
   ],
   "source": [
    "print(f\"{str1} is {x}\")"
   ]
  },
  {
   "cell_type": "code",
   "execution_count": 15,
   "id": "82f93512",
   "metadata": {},
   "outputs": [],
   "source": [
    "y=str1.replace(\"Python\",\"SQL\")"
   ]
  },
  {
   "cell_type": "code",
   "execution_count": 16,
   "id": "6c55a1a9",
   "metadata": {},
   "outputs": [
    {
     "data": {
      "text/plain": [
       "'String in SQL'"
      ]
     },
     "execution_count": 16,
     "metadata": {},
     "output_type": "execute_result"
    }
   ],
   "source": [
    "y"
   ]
  },
  {
   "cell_type": "code",
   "execution_count": 17,
   "id": "bef3323d",
   "metadata": {},
   "outputs": [
    {
     "data": {
      "text/plain": [
       "'String in Python'"
      ]
     },
     "execution_count": 17,
     "metadata": {},
     "output_type": "execute_result"
    }
   ],
   "source": [
    "str1"
   ]
  },
  {
   "cell_type": "code",
   "execution_count": 32,
   "id": "163420b1",
   "metadata": {},
   "outputs": [
    {
     "data": {
      "text/plain": [
       "'String in Python'"
      ]
     },
     "execution_count": 32,
     "metadata": {},
     "output_type": "execute_result"
    }
   ],
   "source": [
    "str1.replace(\"python\", \"SQL\")"
   ]
  },
  {
   "cell_type": "code",
   "execution_count": 33,
   "id": "98e19965",
   "metadata": {},
   "outputs": [
    {
     "data": {
      "text/plain": [
       "'String in Python'"
      ]
     },
     "execution_count": 33,
     "metadata": {},
     "output_type": "execute_result"
    }
   ],
   "source": [
    "str1"
   ]
  },
  {
   "cell_type": "code",
   "execution_count": 34,
   "id": "79ac69be",
   "metadata": {},
   "outputs": [
    {
     "data": {
      "text/plain": [
       "'rin'"
      ]
     },
     "execution_count": 34,
     "metadata": {},
     "output_type": "execute_result"
    }
   ],
   "source": [
    "str1[2:5]"
   ]
  },
  {
   "cell_type": "code",
   "execution_count": 35,
   "id": "667c1b30",
   "metadata": {},
   "outputs": [
    {
     "data": {
      "text/plain": [
       "'rgnyo'"
      ]
     },
     "execution_count": 35,
     "metadata": {},
     "output_type": "execute_result"
    }
   ],
   "source": [
    "str1[2:20:3]"
   ]
  },
  {
   "cell_type": "code",
   "execution_count": 36,
   "id": "ab5583ed",
   "metadata": {},
   "outputs": [
    {
     "data": {
      "text/plain": [
       "'tring in Python'"
      ]
     },
     "execution_count": 36,
     "metadata": {},
     "output_type": "execute_result"
    }
   ],
   "source": [
    "str1[1:]"
   ]
  },
  {
   "cell_type": "code",
   "execution_count": 37,
   "id": "dd6d0161",
   "metadata": {},
   "outputs": [
    {
     "data": {
      "text/plain": [
       "'n'"
      ]
     },
     "execution_count": 37,
     "metadata": {},
     "output_type": "execute_result"
    }
   ],
   "source": [
    "str1[-1]"
   ]
  },
  {
   "cell_type": "code",
   "execution_count": 38,
   "id": "cadb8f91",
   "metadata": {},
   "outputs": [
    {
     "data": {
      "text/plain": [
       "'String in Pytho'"
      ]
     },
     "execution_count": 38,
     "metadata": {},
     "output_type": "execute_result"
    }
   ],
   "source": [
    "str1[:-1]"
   ]
  },
  {
   "cell_type": "code",
   "execution_count": 39,
   "id": "350cbf3b",
   "metadata": {},
   "outputs": [
    {
     "data": {
      "text/plain": [
       "'n'"
      ]
     },
     "execution_count": 39,
     "metadata": {},
     "output_type": "execute_result"
    }
   ],
   "source": [
    "str1[-1:]"
   ]
  },
  {
   "cell_type": "code",
   "execution_count": 40,
   "id": "15c52713",
   "metadata": {},
   "outputs": [
    {
     "data": {
      "text/plain": [
       "'n'"
      ]
     },
     "execution_count": 40,
     "metadata": {},
     "output_type": "execute_result"
    }
   ],
   "source": [
    "str1[len(str1)-1]"
   ]
  },
  {
   "cell_type": "code",
   "execution_count": 41,
   "id": "3544f1b3",
   "metadata": {},
   "outputs": [
    {
     "data": {
      "text/plain": [
       "str"
      ]
     },
     "execution_count": 41,
     "metadata": {},
     "output_type": "execute_result"
    }
   ],
   "source": [
    "type(str1)"
   ]
  }
 ],
 "metadata": {
  "kernelspec": {
   "display_name": "Python 3 (ipykernel)",
   "language": "python",
   "name": "python3"
  },
  "language_info": {
   "codemirror_mode": {
    "name": "ipython",
    "version": 3
   },
   "file_extension": ".py",
   "mimetype": "text/x-python",
   "name": "python",
   "nbconvert_exporter": "python",
   "pygments_lexer": "ipython3",
   "version": "3.9.7"
  }
 },
 "nbformat": 4,
 "nbformat_minor": 5
}
