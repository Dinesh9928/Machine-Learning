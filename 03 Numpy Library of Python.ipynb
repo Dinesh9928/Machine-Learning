{
 "cells": [
  {
   "cell_type": "markdown",
   "id": "7c143858",
   "metadata": {},
   "source": [
    "# Numpy"
   ]
  },
  {
   "cell_type": "code",
   "execution_count": 1,
   "id": "b3179cf1",
   "metadata": {},
   "outputs": [],
   "source": [
    "import numpy as np"
   ]
  },
  {
   "cell_type": "code",
   "execution_count": 2,
   "id": "437edf82",
   "metadata": {},
   "outputs": [],
   "source": [
    "arr1 = np.array([1,2,3,4,5,6])"
   ]
  },
  {
   "cell_type": "code",
   "execution_count": 4,
   "id": "485f4920",
   "metadata": {},
   "outputs": [
    {
     "data": {
      "text/plain": [
       "array([1, 2, 3, 4, 5, 6])"
      ]
     },
     "execution_count": 4,
     "metadata": {},
     "output_type": "execute_result"
    }
   ],
   "source": [
    "arr1"
   ]
  },
  {
   "cell_type": "code",
   "execution_count": 5,
   "id": "da09d610",
   "metadata": {},
   "outputs": [
    {
     "data": {
      "text/plain": [
       "numpy.ndarray"
      ]
     },
     "execution_count": 5,
     "metadata": {},
     "output_type": "execute_result"
    }
   ],
   "source": [
    "type(arr1)"
   ]
  },
  {
   "cell_type": "code",
   "execution_count": 9,
   "id": "a5bfb847",
   "metadata": {},
   "outputs": [],
   "source": [
    "mat1=np.array([[1,2,3,4],[5,6,7,8]])"
   ]
  },
  {
   "cell_type": "code",
   "execution_count": 10,
   "id": "5715f045",
   "metadata": {},
   "outputs": [
    {
     "data": {
      "text/plain": [
       "array([[1, 2, 3, 4],\n",
       "       [5, 6, 7, 8]])"
      ]
     },
     "execution_count": 10,
     "metadata": {},
     "output_type": "execute_result"
    }
   ],
   "source": [
    "mat1"
   ]
  },
  {
   "cell_type": "code",
   "execution_count": 12,
   "id": "366d62e2",
   "metadata": {},
   "outputs": [
    {
     "data": {
      "text/plain": [
       "(2, 4)"
      ]
     },
     "execution_count": 12,
     "metadata": {},
     "output_type": "execute_result"
    }
   ],
   "source": [
    "mat1.shape"
   ]
  },
  {
   "cell_type": "code",
   "execution_count": 13,
   "id": "ec6b2f86",
   "metadata": {},
   "outputs": [
    {
     "data": {
      "text/plain": [
       "(6,)"
      ]
     },
     "execution_count": 13,
     "metadata": {},
     "output_type": "execute_result"
    }
   ],
   "source": [
    "arr1.shape"
   ]
  },
  {
   "cell_type": "code",
   "execution_count": 14,
   "id": "94a7a445",
   "metadata": {},
   "outputs": [
    {
     "data": {
      "text/plain": [
       "dtype('int32')"
      ]
     },
     "execution_count": 14,
     "metadata": {},
     "output_type": "execute_result"
    }
   ],
   "source": [
    "mat1.dtype"
   ]
  },
  {
   "cell_type": "code",
   "execution_count": 16,
   "id": "259ab21a",
   "metadata": {},
   "outputs": [],
   "source": [
    "mat1[0,0] = 10"
   ]
  },
  {
   "cell_type": "code",
   "execution_count": 17,
   "id": "e7b71d20",
   "metadata": {},
   "outputs": [
    {
     "data": {
      "text/plain": [
       "array([[10,  2,  3,  4],\n",
       "       [ 5,  6,  7,  8]])"
      ]
     },
     "execution_count": 17,
     "metadata": {},
     "output_type": "execute_result"
    }
   ],
   "source": [
    "mat1"
   ]
  },
  {
   "cell_type": "code",
   "execution_count": 19,
   "id": "6191aaa0",
   "metadata": {},
   "outputs": [
    {
     "ename": "ValueError",
     "evalue": "invalid literal for int() with base 10: 'String value'",
     "output_type": "error",
     "traceback": [
      "\u001b[1;31m---------------------------------------------------------------------------\u001b[0m",
      "\u001b[1;31mValueError\u001b[0m                                Traceback (most recent call last)",
      "\u001b[1;32m~\\AppData\\Local\\Temp/ipykernel_2264/513391746.py\u001b[0m in \u001b[0;36m<module>\u001b[1;34m\u001b[0m\n\u001b[1;32m----> 1\u001b[1;33m \u001b[0mmat1\u001b[0m\u001b[1;33m[\u001b[0m\u001b[1;36m0\u001b[0m\u001b[1;33m,\u001b[0m\u001b[1;36m0\u001b[0m\u001b[1;33m]\u001b[0m\u001b[1;33m=\u001b[0m\u001b[1;34m\"String value\"\u001b[0m\u001b[1;33m\u001b[0m\u001b[1;33m\u001b[0m\u001b[0m\n\u001b[0m",
      "\u001b[1;31mValueError\u001b[0m: invalid literal for int() with base 10: 'String value'"
     ]
    }
   ],
   "source": [
    "mat1[0,0]=\"String value\""
   ]
  },
  {
   "cell_type": "code",
   "execution_count": 20,
   "id": "ab3d4e96",
   "metadata": {},
   "outputs": [
    {
     "data": {
      "text/plain": [
       "array([ 0,  1,  2,  3,  4,  5,  6,  7,  8,  9, 10, 11, 12, 13, 14, 15, 16,\n",
       "       17, 18, 19])"
      ]
     },
     "execution_count": 20,
     "metadata": {},
     "output_type": "execute_result"
    }
   ],
   "source": [
    "mat2 = np.arange(0,20, 1)\n",
    "mat2"
   ]
  },
  {
   "cell_type": "code",
   "execution_count": 23,
   "id": "e58e2550",
   "metadata": {},
   "outputs": [
    {
     "data": {
      "text/plain": [
       "array([ 0.        ,  0.52631579,  1.05263158,  1.57894737,  2.10526316,\n",
       "        2.63157895,  3.15789474,  3.68421053,  4.21052632,  4.73684211,\n",
       "        5.26315789,  5.78947368,  6.31578947,  6.84210526,  7.36842105,\n",
       "        7.89473684,  8.42105263,  8.94736842,  9.47368421, 10.        ])"
      ]
     },
     "execution_count": 23,
     "metadata": {},
     "output_type": "execute_result"
    }
   ],
   "source": [
    "mat3 = np.linspace(0,10,20)\n",
    "mat3"
   ]
  },
  {
   "cell_type": "code",
   "execution_count": 24,
   "id": "4f78c77f",
   "metadata": {},
   "outputs": [
    {
     "data": {
      "text/plain": [
       "(20,)"
      ]
     },
     "execution_count": 24,
     "metadata": {},
     "output_type": "execute_result"
    }
   ],
   "source": [
    "mat3.shape"
   ]
  },
  {
   "cell_type": "code",
   "execution_count": 25,
   "id": "38bfd723",
   "metadata": {},
   "outputs": [
    {
     "data": {
      "text/plain": [
       "array([[0.31083321, 0.50297779, 0.01711418, 0.43646352, 0.94173488],\n",
       "       [0.24515712, 0.99779191, 0.69568701, 0.07205813, 0.27712731],\n",
       "       [0.62839012, 0.30141668, 0.35946447, 0.71660928, 0.8904345 ],\n",
       "       [0.87830849, 0.84452457, 0.97579923, 0.78264158, 0.27159111],\n",
       "       [0.39014588, 0.64580776, 0.51284247, 0.76643958, 0.67184917]])"
      ]
     },
     "execution_count": 25,
     "metadata": {},
     "output_type": "execute_result"
    }
   ],
   "source": [
    "mat4= np.random.rand(5,5)\n",
    "mat4"
   ]
  },
  {
   "cell_type": "code",
   "execution_count": 26,
   "id": "4fbd7b6f",
   "metadata": {},
   "outputs": [
    {
     "data": {
      "text/plain": [
       "(5, 5)"
      ]
     },
     "execution_count": 26,
     "metadata": {},
     "output_type": "execute_result"
    }
   ],
   "source": [
    "mat4.shape # all the values lies between 0 to 1"
   ]
  },
  {
   "cell_type": "code",
   "execution_count": 27,
   "id": "aa780fdb",
   "metadata": {},
   "outputs": [
    {
     "data": {
      "text/plain": [
       "array([[-0.3203049 ,  1.50938321, -1.48438236,  0.73262099,  0.35149302],\n",
       "       [ 0.53112621,  0.55524949,  0.64028785, -0.54979647, -1.31266351],\n",
       "       [ 1.53444051,  1.35958793,  0.34565884, -0.43799138, -0.86315964],\n",
       "       [ 0.53502877, -0.07307592, -0.1632666 , -1.09110941,  0.67169669],\n",
       "       [ 0.89708954,  0.85707828, -0.24842074, -0.3120262 , -1.08911648]])"
      ]
     },
     "execution_count": 27,
     "metadata": {},
     "output_type": "execute_result"
    }
   ],
   "source": [
    "mat5 = np.random.randn(5,5)\n",
    "mat5    # All random values "
   ]
  },
  {
   "cell_type": "code",
   "execution_count": 28,
   "id": "d853a065",
   "metadata": {},
   "outputs": [
    {
     "data": {
      "text/plain": [
       "-0.3203049000311638"
      ]
     },
     "execution_count": 28,
     "metadata": {},
     "output_type": "execute_result"
    }
   ],
   "source": [
    "mat5[0,0]"
   ]
  },
  {
   "cell_type": "code",
   "execution_count": 29,
   "id": "33d0e045",
   "metadata": {},
   "outputs": [
    {
     "data": {
      "text/plain": [
       "array([[-0.3203049 ,  1.50938321, -1.48438236],\n",
       "       [ 0.53112621,  0.55524949,  0.64028785],\n",
       "       [ 1.53444051,  1.35958793,  0.34565884],\n",
       "       [ 0.53502877, -0.07307592, -0.1632666 ]])"
      ]
     },
     "execution_count": 29,
     "metadata": {},
     "output_type": "execute_result"
    }
   ],
   "source": [
    "mat5[0:4, 0:3] # first 4 (index b/w 0 to 3)row and 3(index b/w 0 to 2) columns"
   ]
  }
 ],
 "metadata": {
  "kernelspec": {
   "display_name": "Python 3 (ipykernel)",
   "language": "python",
   "name": "python3"
  },
  "language_info": {
   "codemirror_mode": {
    "name": "ipython",
    "version": 3
   },
   "file_extension": ".py",
   "mimetype": "text/x-python",
   "name": "python",
   "nbconvert_exporter": "python",
   "pygments_lexer": "ipython3",
   "version": "3.9.7"
  }
 },
 "nbformat": 4,
 "nbformat_minor": 5
}
